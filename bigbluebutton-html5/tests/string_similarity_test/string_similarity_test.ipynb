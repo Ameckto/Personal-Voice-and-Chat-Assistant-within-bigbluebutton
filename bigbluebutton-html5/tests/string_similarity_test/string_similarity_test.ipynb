{
 "cells": [
  {
   "cell_type": "code",
   "execution_count": 12,
   "metadata": {
    "scrolled": true
   },
   "outputs": [],
   "source": [
    "import pandas as pd\n",
    "import numpy as np"
   ]
  },
  {
   "cell_type": "code",
   "execution_count": 13,
   "metadata": {},
   "outputs": [],
   "source": [
    "input_data = [{'input_name': 'Freddy', 'expected_name': 'Freddy_93', 'names_in_meeting': ['Freddy_93', 'Klaus', 'Niklas']},\n",
    "              {'input_name': 'niklas', 'expected_name': 'Niklas', 'names_in_meeting': ['Freddy', 'Klaus', 'Niklas']},\n",
    "              {'input_name': 'Niklas', 'expected_name': 'niklas', 'names_in_meeting': ['Freddy', 'Klaus', 'niklas']},\n",
    "              {'input_name': 'Nikki', 'expected_name': 'Nikki', 'names_in_meeting': ['Nikki', 'Klaus', 'Paulana']},\n",
    "              {'input_name': 'Chris', 'expected_name': 'Christian', 'names_in_meeting': ['Christian', 'Klaus', 'Niklas']},\n",
    "              {'input_name': 'Christian', 'expected_name': 'Chris', 'names_in_meeting': ['Chris', 'Klaus', 'Niklas']},\n",
    "              {'input_name': 'Robert', 'expected_name': 'Rob3rt', 'names_in_meeting': ['Rob3rt', 'Klaus', 'Roberta']},\n",
    "              {'input_name': 'Otto', 'expected_name': '0tt0', 'names_in_meeting': ['0tt0', 'Klaus', 'Seid']},\n",
    "              {'input_name': 'Robert Johanson', 'expected_name': 'Robert', 'names_in_meeting': ['Robert', 'Klaus', 'Seid']},\n",
    "              {'input_name': 'Robert', 'expected_name': 'Robert Johanson', 'names_in_meeting': ['Robert Johanson', 'Klaus', 'Seid']},\n",
    "             ]"
   ]
  },
  {
   "cell_type": "code",
   "execution_count": 27,
   "metadata": {},
   "outputs": [],
   "source": [
    "output_data = [{\"input_name\":\"Freddy\",\"expectet_name\":\"Freddy_93\",\"rank_name_1\":\"Freddy_93\",\"confidence_name_1\":0.7692307692307693,\"rank_name_2\":\"Niklas\",\"confidence_name_2\":0,\"rank_name_3\":\"Klaus\",\"confidence_name_3\":0},{\"input_name\":\"niklas\",\"expectet_name\":\"Niklas\",\"rank_name_1\":\"Niklas\",\"confidence_name_1\":0.8,\"rank_name_2\":\"Klaus\",\"confidence_name_2\":0.2222222222222222,\"rank_name_3\":\"Freddy\",\"confidence_name_3\":0},{\"input_name\":\"Niklas\",\"expectet_name\":\"niklas\",\"rank_name_1\":\"niklas\",\"confidence_name_1\":0.8,\"rank_name_2\":\"Klaus\",\"confidence_name_2\":0.2222222222222222,\"rank_name_3\":\"Freddy\",\"confidence_name_3\":0},{\"input_name\":\"Nikki\",\"expectet_name\":\"Nikki\",\"rank_name_1\":\"Nikki\",\"confidence_name_1\":1,\"rank_name_2\":\"Paulana\",\"confidence_name_2\":0,\"rank_name_3\":\"Klaus\",\"confidence_name_3\":0},{\"input_name\":\"Chris\",\"expectet_name\":\"Christian\",\"rank_name_1\":\"Christian\",\"confidence_name_1\":0.6666666666666666,\"rank_name_2\":\"Niklas\",\"confidence_name_2\":0,\"rank_name_3\":\"Klaus\",\"confidence_name_3\":0},{\"input_name\":\"Christian\",\"expectet_name\":\"Chris\",\"rank_name_1\":\"Chris\",\"confidence_name_1\":0.6666666666666666,\"rank_name_2\":\"Niklas\",\"confidence_name_2\":0,\"rank_name_3\":\"Klaus\",\"confidence_name_3\":0},{\"input_name\":\"Robert\",\"expectet_name\":\"Rob3rt\",\"rank_name_1\":\"Roberta\",\"confidence_name_1\":0.9090909090909091,\"rank_name_2\":\"Rob3rt\",\"confidence_name_2\":0.6,\"rank_name_3\":\"Klaus\",\"confidence_name_3\":0},{\"input_name\":\"Otto\",\"expectet_name\":\"0tt0\",\"rank_name_1\":\"0tt0\",\"confidence_name_1\":0.3333333333333333,\"rank_name_2\":\"Seid\",\"confidence_name_2\":0,\"rank_name_3\":\"Klaus\",\"confidence_name_3\":0},{\"input_name\":\"Robert Johanson\",\"expectet_name\":\"Robert\",\"rank_name_1\":\"Robert\",\"confidence_name_1\":0.5555555555555556,\"rank_name_2\":\"Seid\",\"confidence_name_2\":0,\"rank_name_3\":\"Klaus\",\"confidence_name_3\":0},{\"input_name\":\"Robert\",\"expectet_name\":\"Robert Johanson\",\"rank_name_1\":\"Robert Johanson\",\"confidence_name_1\":0.5555555555555556,\"rank_name_2\":\"Seid\",\"confidence_name_2\":0,\"rank_name_3\":\"Klaus\",\"confidence_name_3\":0}]"
   ]
  },
  {
   "cell_type": "code",
   "execution_count": 28,
   "metadata": {},
   "outputs": [],
   "source": [
    "df = pd.DataFrame(output_data)\n",
    "df['right_name'] = np.where(df['expectet_name'] == df['rank_name_1'], 'true', 'false')"
   ]
  },
  {
   "cell_type": "code",
   "execution_count": 29,
   "metadata": {
    "scrolled": true
   },
   "outputs": [
    {
     "data": {
      "text/html": [
       "<div>\n",
       "<style scoped>\n",
       "    .dataframe tbody tr th:only-of-type {\n",
       "        vertical-align: middle;\n",
       "    }\n",
       "\n",
       "    .dataframe tbody tr th {\n",
       "        vertical-align: top;\n",
       "    }\n",
       "\n",
       "    .dataframe thead th {\n",
       "        text-align: right;\n",
       "    }\n",
       "</style>\n",
       "<table border=\"1\" class=\"dataframe\">\n",
       "  <thead>\n",
       "    <tr style=\"text-align: right;\">\n",
       "      <th></th>\n",
       "      <th>input_name</th>\n",
       "      <th>expectet_name</th>\n",
       "      <th>rank_name_1</th>\n",
       "      <th>confidence_name_1</th>\n",
       "      <th>rank_name_2</th>\n",
       "      <th>confidence_name_2</th>\n",
       "      <th>rank_name_3</th>\n",
       "      <th>confidence_name_3</th>\n",
       "      <th>right_name</th>\n",
       "    </tr>\n",
       "  </thead>\n",
       "  <tbody>\n",
       "    <tr>\n",
       "      <th>0</th>\n",
       "      <td>Freddy</td>\n",
       "      <td>Freddy_93</td>\n",
       "      <td>Freddy_93</td>\n",
       "      <td>0.769231</td>\n",
       "      <td>Niklas</td>\n",
       "      <td>0.000000</td>\n",
       "      <td>Klaus</td>\n",
       "      <td>0</td>\n",
       "      <td>true</td>\n",
       "    </tr>\n",
       "    <tr>\n",
       "      <th>1</th>\n",
       "      <td>niklas</td>\n",
       "      <td>Niklas</td>\n",
       "      <td>Niklas</td>\n",
       "      <td>0.800000</td>\n",
       "      <td>Klaus</td>\n",
       "      <td>0.222222</td>\n",
       "      <td>Freddy</td>\n",
       "      <td>0</td>\n",
       "      <td>true</td>\n",
       "    </tr>\n",
       "    <tr>\n",
       "      <th>2</th>\n",
       "      <td>Niklas</td>\n",
       "      <td>niklas</td>\n",
       "      <td>niklas</td>\n",
       "      <td>0.800000</td>\n",
       "      <td>Klaus</td>\n",
       "      <td>0.222222</td>\n",
       "      <td>Freddy</td>\n",
       "      <td>0</td>\n",
       "      <td>true</td>\n",
       "    </tr>\n",
       "    <tr>\n",
       "      <th>3</th>\n",
       "      <td>Nikki</td>\n",
       "      <td>Nikki</td>\n",
       "      <td>Nikki</td>\n",
       "      <td>1.000000</td>\n",
       "      <td>Paulana</td>\n",
       "      <td>0.000000</td>\n",
       "      <td>Klaus</td>\n",
       "      <td>0</td>\n",
       "      <td>true</td>\n",
       "    </tr>\n",
       "    <tr>\n",
       "      <th>4</th>\n",
       "      <td>Chris</td>\n",
       "      <td>Christian</td>\n",
       "      <td>Christian</td>\n",
       "      <td>0.666667</td>\n",
       "      <td>Niklas</td>\n",
       "      <td>0.000000</td>\n",
       "      <td>Klaus</td>\n",
       "      <td>0</td>\n",
       "      <td>true</td>\n",
       "    </tr>\n",
       "    <tr>\n",
       "      <th>5</th>\n",
       "      <td>Christian</td>\n",
       "      <td>Chris</td>\n",
       "      <td>Chris</td>\n",
       "      <td>0.666667</td>\n",
       "      <td>Niklas</td>\n",
       "      <td>0.000000</td>\n",
       "      <td>Klaus</td>\n",
       "      <td>0</td>\n",
       "      <td>true</td>\n",
       "    </tr>\n",
       "    <tr>\n",
       "      <th>6</th>\n",
       "      <td>Robert</td>\n",
       "      <td>Rob3rt</td>\n",
       "      <td>Roberta</td>\n",
       "      <td>0.909091</td>\n",
       "      <td>Rob3rt</td>\n",
       "      <td>0.600000</td>\n",
       "      <td>Klaus</td>\n",
       "      <td>0</td>\n",
       "      <td>false</td>\n",
       "    </tr>\n",
       "    <tr>\n",
       "      <th>7</th>\n",
       "      <td>Otto</td>\n",
       "      <td>0tt0</td>\n",
       "      <td>0tt0</td>\n",
       "      <td>0.333333</td>\n",
       "      <td>Seid</td>\n",
       "      <td>0.000000</td>\n",
       "      <td>Klaus</td>\n",
       "      <td>0</td>\n",
       "      <td>true</td>\n",
       "    </tr>\n",
       "    <tr>\n",
       "      <th>8</th>\n",
       "      <td>Robert Johanson</td>\n",
       "      <td>Robert</td>\n",
       "      <td>Robert</td>\n",
       "      <td>0.555556</td>\n",
       "      <td>Seid</td>\n",
       "      <td>0.000000</td>\n",
       "      <td>Klaus</td>\n",
       "      <td>0</td>\n",
       "      <td>true</td>\n",
       "    </tr>\n",
       "    <tr>\n",
       "      <th>9</th>\n",
       "      <td>Robert</td>\n",
       "      <td>Robert Johanson</td>\n",
       "      <td>Robert Johanson</td>\n",
       "      <td>0.555556</td>\n",
       "      <td>Seid</td>\n",
       "      <td>0.000000</td>\n",
       "      <td>Klaus</td>\n",
       "      <td>0</td>\n",
       "      <td>true</td>\n",
       "    </tr>\n",
       "  </tbody>\n",
       "</table>\n",
       "</div>"
      ],
      "text/plain": [
       "        input_name    expectet_name      rank_name_1  confidence_name_1  \\\n",
       "0           Freddy        Freddy_93        Freddy_93           0.769231   \n",
       "1           niklas           Niklas           Niklas           0.800000   \n",
       "2           Niklas           niklas           niklas           0.800000   \n",
       "3            Nikki            Nikki            Nikki           1.000000   \n",
       "4            Chris        Christian        Christian           0.666667   \n",
       "5        Christian            Chris            Chris           0.666667   \n",
       "6           Robert           Rob3rt          Roberta           0.909091   \n",
       "7             Otto             0tt0             0tt0           0.333333   \n",
       "8  Robert Johanson           Robert           Robert           0.555556   \n",
       "9           Robert  Robert Johanson  Robert Johanson           0.555556   \n",
       "\n",
       "  rank_name_2  confidence_name_2 rank_name_3  confidence_name_3 right_name  \n",
       "0      Niklas           0.000000       Klaus                  0       true  \n",
       "1       Klaus           0.222222      Freddy                  0       true  \n",
       "2       Klaus           0.222222      Freddy                  0       true  \n",
       "3     Paulana           0.000000       Klaus                  0       true  \n",
       "4      Niklas           0.000000       Klaus                  0       true  \n",
       "5      Niklas           0.000000       Klaus                  0       true  \n",
       "6      Rob3rt           0.600000       Klaus                  0      false  \n",
       "7        Seid           0.000000       Klaus                  0       true  \n",
       "8        Seid           0.000000       Klaus                  0       true  \n",
       "9        Seid           0.000000       Klaus                  0       true  "
      ]
     },
     "execution_count": 29,
     "metadata": {},
     "output_type": "execute_result"
    }
   ],
   "source": [
    "df"
   ]
  },
  {
   "cell_type": "markdown",
   "metadata": {},
   "source": [
    "## How many rank 1 names are not the expected names?"
   ]
  },
  {
   "cell_type": "code",
   "execution_count": 30,
   "metadata": {},
   "outputs": [
    {
     "data": {
      "text/plain": [
       "<matplotlib.axes._subplots.AxesSubplot at 0x1da77ffe0c8>"
      ]
     },
     "execution_count": 30,
     "metadata": {},
     "output_type": "execute_result"
    },
    {
     "data": {
      "image/png": "[encoded data removed]",
      "text/plain": [
       "<Figure size 432x288 with 1 Axes>"
      ]
     },
     "metadata": {},
     "output_type": "display_data"
    }
   ],
   "source": [
    "df.groupby('right_name').right_name.count().plot(kind='pie')"
   ]
  },
  {
   "cell_type": "markdown",
   "metadata": {},
   "source": [
    "## Whats the confidence for the names identified falsely?"
   ]
  },
  {
   "cell_type": "code",
   "execution_count": 31,
   "metadata": {},
   "outputs": [
    {
     "data": {
      "text/plain": [
       "<matplotlib.axes._subplots.AxesSubplot at 0x1da78232d08>"
      ]
     },
     "execution_count": 31,
     "metadata": {},
     "output_type": "execute_result"
    },
    {
     "data": {
      "image/png": "[encoded data removed]",
      "text/plain": [
       "<Figure size 1800x360 with 1 Axes>"
      ]
     },
     "metadata": {
      "needs_background": "light"
     },
     "output_type": "display_data"
    }
   ],
   "source": [
    "df[df['right_name']=='false'].boxplot(column=['confidence_name_1'], by='expectet_name', figsize=(25,5))"
   ]
  },
  {
   "cell_type": "markdown",
   "metadata": {},
   "source": [
    "## Whats the confidence for the names identified truely?"
   ]
  },
  {
   "cell_type": "code",
   "execution_count": 32,
   "metadata": {},
   "outputs": [
    {
     "data": {
      "text/plain": [
       "<matplotlib.axes._subplots.AxesSubplot at 0x1da78295dc8>"
      ]
     },
     "execution_count": 32,
     "metadata": {},
     "output_type": "execute_result"
    },
    {
     "data": {
      "image/png": "[encoded data removed]",
      "text/plain": [
       "<Figure size 1800x360 with 1 Axes>"
      ]
     },
     "metadata": {
      "needs_background": "light"
     },
     "output_type": "display_data"
    }
   ],
   "source": [
    "df.boxplot(column=['confidence_name_1'], by='expectet_name', figsize=(25,5))"
   ]
  },
  {
   "cell_type": "markdown",
   "metadata": {},
   "source": [
    "Findings: "
   ]
  },
  {
   "cell_type": "markdown",
   "metadata": {},
   "source": [
    "Although this test shows that the matches are almost all right it has trouble to identify numbers as charackters within a string like 0tt0 which should mean Otto which is detected but only with a confidence of 0.333333\n",
    "\n",
    "In addition Robert which should be Rob3rt translates to Roberta with a confidence of 0.909091, Rob3rt has only a conficende of 0.600000"
   ]
  },
  {
   "cell_type": "markdown",
   "metadata": {},
   "source": [
    "I guess a min_confidence of 0.5 to activate this feature is a good value in the first place"
   ]
  }
 ],
 "metadata": {
  "kernelspec": {
   "display_name": "Python 3",
   "language": "python",
   "name": "python3"
  },
  "language_info": {
   "codemirror_mode": {
    "name": "ipython",
    "version": 3
   },
   "file_extension": ".py",
   "mimetype": "text/x-python",
   "name": "python",
   "nbconvert_exporter": "python",
   "pygments_lexer": "ipython3",
   "version": "3.7.7"
  }
 },
 "nbformat": 4,
 "nbformat_minor": 4
}
